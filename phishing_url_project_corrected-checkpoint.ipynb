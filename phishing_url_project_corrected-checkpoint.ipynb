{
 "cells": [
  {
   "cell_type": "markdown",
   "id": "5824a9f4",
   "metadata": {},
   "source": [
    "### This code loads a dataset of URLs, checks the unique status values, and visualizes the distribution of phishing and legitimate URLs using a pie chart. It provides a clear representation of the percentage of each category.\n"
   ]
  },
  {
   "cell_type": "code",
   "execution_count": 1,
   "id": "40978988",
   "metadata": {
    "scrolled": false
   },
   "outputs": [
    {
     "name": "stdout",
     "output_type": "stream",
     "text": [
      "['legitimate' 'phishing']\n"
     ]
    },
    {
     "data": {
      "image/png": "[encoded data removed]",
      "text/plain": [
       "<Figure size 576x576 with 1 Axes>"
      ]
     },
     "metadata": {},
     "output_type": "display_data"
    }
   ],
   "source": [
    "import pandas as pd\n",
    "import matplotlib.pyplot as plt\n",
    "\n",
    "data = pd.read_csv(r\"C:\\Users\\just4\\anaconda3\\dataset_phishing.csv\")\n",
    "\n",
    "\n",
    "print(data['status'].unique())\n",
    "\n",
    "\n",
    "url_counts = data['status'].value_counts()\n",
    "\n",
    "\n",
    "plt.figure(figsize=(8, 8))\n",
    "plt.pie(url_counts, labels=url_counts.index, autopct='%1.1f%%', startangle=140)\n",
    "plt.title('Percentage of Phishing and Legitimate URLs')\n",
    "plt.axis('equal')  \n",
    "plt.show()\n"
   ]
  },
  {
   "cell_type": "markdown",
   "id": "0fc8c55c",
   "metadata": {},
   "source": [
    "### The Random Forest Classifier provides robust performance for phishing URL detection, handling various features effectively."
   ]
  },
  {
   "cell_type": "code",
   "execution_count": 4,
   "id": "8549bf10",
   "metadata": {},
   "outputs": [
    {
     "name": "stdout",
     "output_type": "stream",
     "text": [
      "[[1129   28]\n",
      " [  42 1087]]\n",
      "              precision    recall  f1-score   support\n",
      "\n",
      "  legitimate       0.96      0.98      0.97      1157\n",
      "    phishing       0.97      0.96      0.97      1129\n",
      "\n",
      "    accuracy                           0.97      2286\n",
      "   macro avg       0.97      0.97      0.97      2286\n",
      "weighted avg       0.97      0.97      0.97      2286\n",
      "\n"
     ]
    }
   ],
   "source": [
    "\n",
    "X_train, X_test, y_train, y_test = train_test_split(X, y, test_size=0.2, random_state=42)\n",
    "\n",
    "model = RandomForestClassifier(n_estimators=100, random_state=42)\n",
    "model.fit(X_train, y_train)\n",
    "\n",
    "y_pred = model.predict(X_test)\n",
    "\n",
    "print(confusion_matrix(y_test, y_pred))\n",
    "print(classification_report(y_test, y_pred))\n"
   ]
  },
  {
   "cell_type": "code",
   "execution_count": null,
   "id": "e4eb7e12",
   "metadata": {},
   "outputs": [
    {
     "name": "stdout",
     "output_type": "stream",
     "text": [
      "Dataset distribution:\n",
      "legitimate    5715\n",
      "phishing      5715\n",
      "Name: status, dtype: int64\n",
      "Model accuracy: 96.94%\n",
      "Enter a URL to check (or 'exit' to quit): 5678888\n",
      "The URL is: Invalid URL format\n",
      "Enter a URL to check (or 'exit' to quit): vcfdbdhdhdhjd\n",
      "The URL is: Invalid URL format\n",
      "Enter a URL to check (or 'exit' to quit): justin\n",
      "The URL is: Invalid URL format\n",
      "Enter a URL to check (or 'exit' to quit): https:\\\\\n",
      "The URL is: Invalid URL format\n",
      "Enter a URL to check (or 'exit' to quit): https://@ggn%hh\n",
      "The URL is: Invalid URL format\n",
      "Enter a URL to check (or 'exit' to quit): https:@@//\n",
      "The URL is: Invalid URL format\n"
     ]
    }
   ],
   "source": [
    "import pandas as pd\n",
    "import numpy as np\n",
    "from sklearn.model_selection import train_test_split\n",
    "from sklearn.ensemble import RandomForestClassifier\n",
    "from sklearn.metrics import accuracy_score, confusion_matrix\n",
    "import re\n",
    "\n",
    "\n",
    "df = pd.read_csv(\"C:\\\\Users\\\\just4\\\\anaconda3\\\\dataset_phishing.csv\")\n",
    "\n",
    "\n",
    "print(\"Dataset distribution:\")\n",
    "print(df['status'].value_counts())\n",
    "\n",
    "\n",
    "features = [\n",
    "    'length_url', 'length_hostname', 'ip', 'nb_dots', 'nb_hyphens',\n",
    "    'nb_at', 'nb_qm', 'nb_and', 'nb_or', 'nb_eq', 'nb_underscore',\n",
    "    'nb_tilde', 'nb_percent', 'nb_slash', 'nb_star', 'nb_colon',\n",
    "    'nb_comma', 'nb_semicolumn', 'nb_dollar', 'nb_space', 'nb_www',\n",
    "    'nb_com', 'nb_dslash', 'http_in_path', 'https_token', \n",
    "    'ratio_digits_url', 'ratio_digits_host', 'punycode', 'port', \n",
    "    'tld_in_path', 'tld_in_subdomain', 'abnormal_subdomain', \n",
    "    'nb_subdomains', 'prefix_suffix', 'random_domain', \n",
    "    'shortening_service', 'path_extension', 'nb_redirection', \n",
    "    'nb_external_redirection', 'length_words_raw', 'char_repeat',\n",
    "    'shortest_words_raw', 'shortest_word_host', 'shortest_word_path', \n",
    "    'longest_words_raw', 'longest_word_host', 'longest_word_path', \n",
    "    'avg_words_raw', 'avg_word_host', 'avg_word_path', 'phish_hints', \n",
    "    'domain_in_brand', 'brand_in_subdomain', 'brand_in_path', \n",
    "    'suspecious_tld', 'statistical_report', 'nb_hyperlinks', \n",
    "    'ratio_intHyperlinks', 'ratio_extHyperlinks', \n",
    "    'ratio_nullHyperlinks', 'nb_extCSS', 'ratio_intRedirection', \n",
    "    'ratio_extRedirection', 'ratio_intErrors', 'ratio_extErrors', \n",
    "    'login_form', 'external_favicon', 'links_in_tags', 'submit_email',\n",
    "    'ratio_intMedia', 'ratio_extMedia', 'sfh', 'iframe', \n",
    "    'popup_window', 'safe_anchor', 'onmouseover', 'right_clic', \n",
    "    'empty_title', 'domain_in_title', 'domain_with_copyright', \n",
    "    'whois_registered_domain', 'domain_registration_length', \n",
    "    'domain_age', 'web_traffic', 'dns_record', 'google_index', \n",
    "    'page_rank'\n",
    "]\n",
    "label = 'status'\n",
    "X = df[features].values\n",
    "y = df[label].values\n",
    "X_train, X_test, y_train, y_test = train_test_split(X, y, test_size=0.2, random_state=42)\n",
    "\n",
    "model = RandomForestClassifier(random_state=42)\n",
    "model.fit(X_train, y_train)\n",
    "accuracy = accuracy_score(y_test, model.predict(X_test))\n",
    "print(f'Model accuracy: {accuracy * 100:.2f}%')\n",
    "\n",
    "def is_valid_url(url):\n",
    "    return re.match(r'^(https?://)?[a-zA-Z0-9-]+(\\.[a-zA-Z]{2,})+$', url) is not None\n",
    "\n",
    "def extract_features(url):\n",
    "    features = []\n",
    "    features.append(len(url))\n",
    "    features.append(len(url.split('//')[0]))\n",
    "    features.append(url.count('.'))\n",
    "    features.append(url.count('-'))\n",
    "    features.append(url.count('@'))\n",
    "    features.append(url.count('?'))\n",
    "    features.append(url.count('&'))\n",
    "    features.append(url.count('='))\n",
    "    features.append(url.count('_'))\n",
    "    features.append(url.count('~'))\n",
    "    features.append(url.count('%'))\n",
    "    features.append(url.count('/'))\n",
    "    features.append(url.count(':'))\n",
    "    features.append(url.count(','))\n",
    "    features.append(url.count(';'))\n",
    "    features.append(url.count('$'))\n",
    "    features.append(url.count(' '))\n",
    "\n",
    "    features.append(1 if 'www' in url else 0)\n",
    "    features.append(1 if 'com' in url else 0)\n",
    "    features.append(1 if 'http' in url else 0)\n",
    "    features.append(1 if 'https' in url else 0)\n",
    "\n",
    "    domain = re.findall(r\"https?://([^/]+)\", url)\n",
    "    domain = domain[0] if domain else url\n",
    "    domain_parts = domain.split('.')\n",
    "    features.append(1 if len(domain_parts) < 2 else 0)\n",
    "    features.append(len(domain_parts[0]))  \n",
    "    features.append(len(domain))  \n",
    "\n",
    "    features.append(len(domain_parts[-1]) < 2)  \n",
    "    features.append(len(domain_parts[0]) < 3)  \n",
    "\n",
    "    suspicious_keywords = ['login', 'secure', 'account', 'update', 'bank', 'verify']\n",
    "    features.append(1 if any(keyword in url.lower() for keyword in suspicious_keywords) else 0)\n",
    "\n",
    "    digit_count = sum(c.isdigit() for c in url)\n",
    "    letter_count = sum(c.isalpha() for c in url)\n",
    "    features.append(digit_count)\n",
    "    features.append(digit_count / len(url) if len(url) > 0 else 0)\n",
    "\n",
    "    features.append(len(domain) / len(url) if len(url) > 0 else 0)\n",
    "\n",
    "    common_tlds = ['com', 'net', 'org', 'edu']\n",
    "    features.append(1 if any(domain.endswith(tld) for tld in common_tlds) else 0)\n",
    "\n",
    "    uncommon_tlds = ['cm', 'top', 'xyz', 'c2m']\n",
    "    features.append(1 if any(domain.endswith(tld) for tld in uncommon_tlds) else 0)\n",
    "\n",
    "    features.append(1 if letter_count == 0 else 0)\n",
    "    features.append(1 if digit_count > len(url) / 2 else 0)\n",
    "\n",
    "    features.append(1 if len(url) < 10 else 0)\n",
    "    features.append(len(domain_parts) - 1)\n",
    "\n",
    "    features.extend([0] * (87 - len(features)))\n",
    "\n",
    "    return features\n",
    "\n",
    "def predict_url(url):\n",
    "    if not is_valid_url(url):\n",
    "        return 'Invalid URL format'\n",
    "    \n",
    "    features_array = np.array(extract_features(url)).reshape(1, -1)\n",
    "    prediction = model.predict(features_array)\n",
    "    return 'Phishing' if prediction[0] == 1 else 'Legitimate'\n",
    "\n",
    "while True:\n",
    "    user_input = input(\"Enter a URL to check (or 'exit' to quit): \")\n",
    "    if user_input.lower() == 'exit':\n",
    "        break\n",
    "    result = predict_url(user_input)\n",
    "    print(f'The URL is: {result}')\n",
    "\n",
    "y_pred = model.predict(X_test)\n",
    "print(\"Confusion Matrix:\\n\", confusion_matrix(y_test, y_pred))\n"
   ]
  },
  {
   "cell_type": "code",
   "execution_count": null,
   "id": "52d6cc85",
   "metadata": {},
   "outputs": [],
   "source": []
  }
 ],
 "metadata": {
  "kernelspec": {
   "display_name": "Python 3 (ipykernel)",
   "language": "python",
   "name": "python3"
  },
  "language_info": {
   "codemirror_mode": {
    "name": "ipython",
    "version": 3
   },
   "file_extension": ".py",
   "mimetype": "text/x-python",
   "name": "python",
   "nbconvert_exporter": "python",
   "pygments_lexer": "ipython3",
   "version": "3.9.12"
  }
 },
 "nbformat": 4,
 "nbformat_minor": 5
}
